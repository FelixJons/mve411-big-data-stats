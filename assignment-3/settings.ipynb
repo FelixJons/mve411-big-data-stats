{
 "cells": [
  {
   "cell_type": "code",
   "execution_count": 58,
   "metadata": {},
   "outputs": [
    {
     "name": "stdout",
     "output_type": "stream",
     "text": [
      "0.7225000000000001\n",
      "0.7314999999999999\n",
      "0.7310000000000001\n",
      "0.757\n",
      "0.7470000000000002\n",
      "0.754\n",
      "0.7505\n",
      "0.7495000000000002\n",
      "0.7480000000000001\n"
     ]
    }
   ],
   "source": [
    "import numpy as np\n",
    "import matplotlib.pyplot as plt\n",
    "from sklearn.datasets import make_classification\n",
    "from sklearn.model_selection import train_test_split\n",
    "from sklearn.preprocessing import StandardScaler\n",
    "from sklearn.neighbors import KNeighborsClassifier\n",
    "from sklearn.discriminant_analysis import LinearDiscriminantAnalysis\n",
    "from sklearn.linear_model import LogisticRegression, Lasso\n",
    "from sklearn.svm import SVC\n",
    "from sklearn.kernel_ridge import KernelRidge\n",
    "from sklearn.ensemble import RandomForestClassifier, GradientBoostingClassifier\n",
    "from sklearn.neural_network import MLPClassifier\n",
    "from sklearn.metrics import accuracy_score\n",
    "import pandas as pd \n",
    "\n",
    "\n",
    "def load_data():\n",
    "    file_path_data = \"CATSnDOGS.csv\"\n",
    "    file_path_labels = \"Labels.csv\"\n",
    "    delimiter=',' \n",
    "    df_data = pd.read_csv(file_path_data, delimiter=delimiter, header=0, quotechar='\"')\n",
    "    df_labels = pd.read_csv(file_path_labels, delimiter=delimiter, header=0, quotechar='\"')\n",
    "    return df_data, df_labels \n",
    "\n",
    "def standardize(train_data, test_data):\n",
    "    sc = StandardScaler()\n",
    "    train_data = sc.fit_transform(train_data)\n",
    "    test_data = sc.transform(test_data)\n",
    "    return train_data, test_data\n",
    "\n",
    "\n",
    "\n",
    "\n",
    "\n",
    "for n in [10, 20, 30, 40, 50, 60, 70, 80, 90]:\n",
    "    clf = RandomForestClassifier(n_estimators=n)\n",
    "    accuracies = []\n",
    "    for _ in range(50):\n",
    "        data, labels = load_data()\n",
    "        X_train, X_test, y_train, y_test = train_test_split(data, labels, test_size=0.2)\n",
    "        X_train_scaled, X_test_scaled = standardize(X_train.values, X_test.values)\n",
    "        clf.fit(X_train_scaled, y_train.values.ravel())\n",
    "        y_pred = clf.predict(X_test_scaled)\n",
    "        accuracy = accuracy_score(y_test, y_pred)\n",
    "        accuracies.append(accuracy)\n",
    "    print(np.mean(accuracies))"
   ]
  }
 ],
 "metadata": {
  "kernelspec": {
   "display_name": "Python 3",
   "language": "python",
   "name": "python3"
  },
  "language_info": {
   "codemirror_mode": {
    "name": "ipython",
    "version": 3
   },
   "file_extension": ".py",
   "mimetype": "text/x-python",
   "name": "python",
   "nbconvert_exporter": "python",
   "pygments_lexer": "ipython3",
   "version": "3.12.2"
  }
 },
 "nbformat": 4,
 "nbformat_minor": 2
}
